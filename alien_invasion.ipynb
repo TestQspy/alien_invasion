{
 "cells": [
  {
   "cell_type": "markdown",
   "metadata": {},
   "source": [
    "### GAME CLASS"
   ]
  },
  {
   "cell_type": "code",
   "execution_count": 10,
   "metadata": {},
   "outputs": [],
   "source": [
    "class Settings:\n",
    "    \"\"\"A class to store all settings for Alien Invasion.\"\"\"\n",
    "    def __init__(self):\n",
    "        \"\"\"Initialize the game's settings.\"\"\"\n",
    "        # Screen settings\n",
    "        self.screen_width = 1200\n",
    "        self.screen_height = 600\n",
    "        self.bg_color = (255, 255, 255)\n",
    "        self.ship_speed = 1.5"
   ]
  },
  {
   "cell_type": "code",
   "execution_count": 7,
   "metadata": {},
   "outputs": [],
   "source": [
    "class Ship:\n",
    "    \"\"\"A class to manage the ship.\"\"\"\n",
    "    \n",
    "    def __init__(self, ai_game):\n",
    "        \"\"\"Initialize the ship and set its starting position.\"\"\"\n",
    "        self.screen = ai_game.screen\n",
    "        self.screen_rect = ai_game.screen.get_rect()\n",
    "        # Load the ship image and get its rect.\n",
    "        self.image = pygame.image.load('images/alien_ship3.bmp')\n",
    "        self.rect = self.image.get_rect()\n",
    "        # Start each new ship at the bottom center of the screen.\n",
    "        self.rect.midbottom = self.screen_rect.midbottom\n",
    "        self.moving_right = False\n",
    "        self.moving_left = False\n",
    "    def blitme(self):\n",
    "        \"\"\"Draw the ship at its current location.\"\"\"\n",
    "        self.screen.blit(self.image, self.rect)\n",
    "    \n",
    "    def update(self):\n",
    "        \"\"\"Update the ship's position based on the movement flag.\"\"\"\n",
    "        if self.moving_right:\n",
    "            self.rect.x += 1\n",
    "        if self.moving_left:\n",
    "            self.rect.x -= 1"
   ]
  },
  {
   "cell_type": "code",
   "execution_count": 11,
   "metadata": {
    "scrolled": true
   },
   "outputs": [
    {
     "ename": "error",
     "evalue": "display Surface quit",
     "output_type": "error",
     "traceback": [
      "\u001b[1;31m---------------------------------------------------------------------------\u001b[0m",
      "\u001b[1;31merror\u001b[0m                                     Traceback (most recent call last)",
      "\u001b[1;32m<ipython-input-11-0c67f2e44f17>\u001b[0m in \u001b[0;36m<module>\u001b[1;34m\u001b[0m\n\u001b[0;32m     45\u001b[0m     \u001b[1;31m# Make a game instance, and run the game.\u001b[0m\u001b[1;33m\u001b[0m\u001b[1;33m\u001b[0m\u001b[1;33m\u001b[0m\u001b[0m\n\u001b[0;32m     46\u001b[0m     \u001b[0mai\u001b[0m \u001b[1;33m=\u001b[0m \u001b[0mAlienInvasion\u001b[0m\u001b[1;33m(\u001b[0m\u001b[1;33m)\u001b[0m\u001b[1;33m\u001b[0m\u001b[1;33m\u001b[0m\u001b[0m\n\u001b[1;32m---> 47\u001b[1;33m     \u001b[0mai\u001b[0m\u001b[1;33m.\u001b[0m\u001b[0mrun_game\u001b[0m\u001b[1;33m(\u001b[0m\u001b[1;33m)\u001b[0m\u001b[1;33m\u001b[0m\u001b[1;33m\u001b[0m\u001b[0m\n\u001b[0m",
      "\u001b[1;32m<ipython-input-11-0c67f2e44f17>\u001b[0m in \u001b[0;36mrun_game\u001b[1;34m(self)\u001b[0m\n\u001b[0;32m     18\u001b[0m             \u001b[0mself\u001b[0m\u001b[1;33m.\u001b[0m\u001b[0m_check_events\u001b[0m\u001b[1;33m(\u001b[0m\u001b[1;33m)\u001b[0m\u001b[1;33m\u001b[0m\u001b[1;33m\u001b[0m\u001b[0m\n\u001b[0;32m     19\u001b[0m             \u001b[0mself\u001b[0m\u001b[1;33m.\u001b[0m\u001b[0mship\u001b[0m\u001b[1;33m.\u001b[0m\u001b[0mupdate\u001b[0m\u001b[1;33m(\u001b[0m\u001b[1;33m)\u001b[0m\u001b[1;33m\u001b[0m\u001b[1;33m\u001b[0m\u001b[0m\n\u001b[1;32m---> 20\u001b[1;33m             \u001b[0mself\u001b[0m\u001b[1;33m.\u001b[0m\u001b[0m_update_screen\u001b[0m\u001b[1;33m(\u001b[0m\u001b[1;33m)\u001b[0m\u001b[1;33m\u001b[0m\u001b[1;33m\u001b[0m\u001b[0m\n\u001b[0m\u001b[0;32m     21\u001b[0m \u001b[1;33m\u001b[0m\u001b[0m\n\u001b[0;32m     22\u001b[0m     \u001b[1;32mdef\u001b[0m \u001b[0m_check_events\u001b[0m\u001b[1;33m(\u001b[0m\u001b[0mself\u001b[0m\u001b[1;33m)\u001b[0m\u001b[1;33m:\u001b[0m\u001b[1;33m\u001b[0m\u001b[1;33m\u001b[0m\u001b[0m\n",
      "\u001b[1;32m<ipython-input-11-0c67f2e44f17>\u001b[0m in \u001b[0;36m_update_screen\u001b[1;34m(self)\u001b[0m\n\u001b[0;32m     38\u001b[0m     \u001b[1;32mdef\u001b[0m \u001b[0m_update_screen\u001b[0m\u001b[1;33m(\u001b[0m\u001b[0mself\u001b[0m\u001b[1;33m)\u001b[0m\u001b[1;33m:\u001b[0m\u001b[1;33m\u001b[0m\u001b[1;33m\u001b[0m\u001b[0m\n\u001b[0;32m     39\u001b[0m         \u001b[1;34m\"\"\"Update images on the screen, and flip to the new screen.\"\"\"\u001b[0m\u001b[1;33m\u001b[0m\u001b[1;33m\u001b[0m\u001b[0m\n\u001b[1;32m---> 40\u001b[1;33m         \u001b[0mself\u001b[0m\u001b[1;33m.\u001b[0m\u001b[0mscreen\u001b[0m\u001b[1;33m.\u001b[0m\u001b[0mfill\u001b[0m\u001b[1;33m(\u001b[0m\u001b[0mself\u001b[0m\u001b[1;33m.\u001b[0m\u001b[0msettings\u001b[0m\u001b[1;33m.\u001b[0m\u001b[0mbg_color\u001b[0m\u001b[1;33m)\u001b[0m\u001b[1;33m\u001b[0m\u001b[1;33m\u001b[0m\u001b[0m\n\u001b[0m\u001b[0;32m     41\u001b[0m         \u001b[0mself\u001b[0m\u001b[1;33m.\u001b[0m\u001b[0mship\u001b[0m\u001b[1;33m.\u001b[0m\u001b[0mblitme\u001b[0m\u001b[1;33m(\u001b[0m\u001b[1;33m)\u001b[0m\u001b[1;33m\u001b[0m\u001b[1;33m\u001b[0m\u001b[0m\n\u001b[0;32m     42\u001b[0m         \u001b[0mpygame\u001b[0m\u001b[1;33m.\u001b[0m\u001b[0mdisplay\u001b[0m\u001b[1;33m.\u001b[0m\u001b[0mflip\u001b[0m\u001b[1;33m(\u001b[0m\u001b[1;33m)\u001b[0m\u001b[1;33m\u001b[0m\u001b[1;33m\u001b[0m\u001b[0m\n",
      "\u001b[1;31merror\u001b[0m: display Surface quit"
     ]
    }
   ],
   "source": [
    "import pygame\n",
    "import sys\n",
    "\n",
    "class AlienInvasion:\n",
    "    \"\"\"Overall class to manage game assets and behavior.\"\"\"\n",
    "    \n",
    "    def __init__(self):\n",
    "        \"\"\"Initialize the game, and create game resources.\"\"\"\n",
    "        pygame.init()\n",
    "        self.settings = Settings()\n",
    "        self.screen = pygame.display.set_mode((self.settings.screen_width, self.settings.screen_height))\n",
    "        pygame.display.set_caption('Alien Invasion')\n",
    "        self.ship = Ship(self)\n",
    "\n",
    "    def run_game(self):\n",
    "        \"\"\"Start the main loop for the game.\"\"\"\n",
    "        while True:\n",
    "            self._check_events()\n",
    "            self.ship.update()\n",
    "            self._update_screen()\n",
    "    \n",
    "    def _check_events(self):\n",
    "        \"\"\"Respond to keypresses and mouse events.\"\"\"\n",
    "        for event in pygame.event.get():\n",
    "            if event.type == pygame.QUIT:\n",
    "                pygame.quit()\n",
    "            elif event.type == pygame.KEYDOWN:\n",
    "                if event.key == pygame.K_RIGHT:\n",
    "                # Move the ship to the right.\n",
    "                    self.ship.moving_right = True\n",
    "                elif event.key == pygame.K_LEFT:\n",
    "                    self.ship.moving_left = True\n",
    "            elif event.type == pygame.KEYUP:\n",
    "                if event.key == pygame.K_RIGHT:\n",
    "                    self.ship.moving_right = False   \n",
    "                elif event.key == pygame.K_LEFT:\n",
    "                    self.ship.moving_left = False \n",
    "    def _update_screen(self):\n",
    "        \"\"\"Update images on the screen, and flip to the new screen.\"\"\"\n",
    "        self.screen.fill(self.settings.bg_color)\n",
    "        self.ship.blitme()\n",
    "        pygame.display.flip()\n",
    "        \n",
    "if __name__ == \"__main__\":\n",
    "    # Make a game instance, and run the game.\n",
    "    ai = AlienInvasion()\n",
    "    ai.run_game()"
   ]
  }
 ],
 "metadata": {
  "kernelspec": {
   "display_name": "Python 3",
   "language": "python",
   "name": "python3"
  },
  "language_info": {
   "codemirror_mode": {
    "name": "ipython",
    "version": 3
   },
   "file_extension": ".py",
   "mimetype": "text/x-python",
   "name": "python",
   "nbconvert_exporter": "python",
   "pygments_lexer": "ipython3",
   "version": "3.7.4"
  }
 },
 "nbformat": 4,
 "nbformat_minor": 2
}
