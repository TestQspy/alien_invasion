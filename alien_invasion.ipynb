{
 "cells": [
  {
   "cell_type": "markdown",
   "metadata": {},
   "source": [
    "### GAME CLASS"
   ]
  },
  {
   "cell_type": "code",
   "execution_count": 1,
   "metadata": {},
   "outputs": [],
   "source": [
    "class Settings:\n",
    "    \"\"\"A class to store all settings for Alien Invasion.\"\"\"\n",
    "    def __init__(self):\n",
    "        \"\"\"Initialize the game's settings.\"\"\"\n",
    "        # Screen settings\n",
    "        self.screen_width = 1200\n",
    "        self.screen_height = 600\n",
    "        self.bg_color = (255, 255, 255)\n",
    "        self.ship_speed = 1.5"
   ]
  },
  {
   "cell_type": "code",
   "execution_count": 2,
   "metadata": {},
   "outputs": [
    {
     "name": "stdout",
     "output_type": "stream",
     "text": [
      "pygame 1.9.6\n",
      "Hello from the pygame community. https://www.pygame.org/contribute.html\n"
     ]
    }
   ],
   "source": [
    "import pygame\n",
    "class Ship:\n",
    "    \"\"\"A class to manage the ship.\"\"\"\n",
    "    \n",
    "    def __init__(self, ai_game):\n",
    "        \"\"\"Initialize the ship and set its starting position.\"\"\"\n",
    "        self.screen = ai_game.screen\n",
    "        self.screen_rect = ai_game.screen.get_rect()\n",
    "        self.settings = ai_game.settings\n",
    "        # Load the ship image and get its rect.\n",
    "        self.image = pygame.image.load('images/alien_ship3.bmp')\n",
    "        self.rect = self.image.get_rect()\n",
    "        # Start each new ship at the bottom center of the screen.\n",
    "        self.rect.midbottom = self.screen_rect.midbottom\n",
    "        self.x = float(self.rect.x)\n",
    "        self.y = float(self.rect.y)\n",
    "        self.moving_right = False\n",
    "        self.moving_left = False\n",
    "        self.moving_up = False\n",
    "        self.moving_down = False\n",
    "        \n",
    "    def blitme(self):\n",
    "        \"\"\"Draw the ship at its current location.\"\"\"\n",
    "        self.screen.blit(self.image, self.rect)\n",
    "    \n",
    "    def update(self):\n",
    "        \"\"\"Update the ship's position based on the movement flag.\"\"\"\n",
    "        if self.moving_right and self.rect.right < self.screen_rect.right:\n",
    "            self.x += self.settings.ship_speed\n",
    "        if self.moving_left and self.rect.left > 0:\n",
    "            self.x -= self.settings.ship_speed\n",
    "        if self.moving_up and self.rect.top > 0:\n",
    "            self.y -= self.settings.ship_speed\n",
    "        if self.moving_down and self.rect.bottom < self.screen_rect.bottom :\n",
    "            self.y += self.settings.ship_speed\n",
    "        \n",
    "        self.rect.x = self.x\n",
    "        self.rect.y = self.y "
   ]
  },
  {
   "cell_type": "code",
   "execution_count": 3,
   "metadata": {},
   "outputs": [],
   "source": [
    "class AlienShip:\n",
    "    \n",
    "    def __init__(self, ai_game):\n",
    "        self.screen = ai_game.screen\n",
    "        self.screen_rect = ai_game.screen.get_rect()\n",
    "        self.image = pygame.image.load('images/alien.bmp').convert()\n",
    "        self.rect = self.image.get_rect()\n",
    "        self.rect.midtop = self.screen_rect.midtop\n",
    "        \n",
    "    def blitme(self):\n",
    "        self.screen.blit(self.image, self.rect)\n",
    "    "
   ]
  },
  {
   "cell_type": "code",
   "execution_count": 5,
   "metadata": {
    "scrolled": true
   },
   "outputs": [
    {
     "ename": "SystemExit",
     "evalue": "",
     "output_type": "error",
     "traceback": [
      "An exception has occurred, use %tb to see the full traceback.\n",
      "\u001b[1;31mSystemExit\u001b[0m\n"
     ]
    },
    {
     "name": "stderr",
     "output_type": "stream",
     "text": [
      "D:\\Anaconda\\lib\\site-packages\\IPython\\core\\interactiveshell.py:3334: UserWarning: To exit: use 'exit', 'quit', or Ctrl-D.\n",
      "  warn(\"To exit: use 'exit', 'quit', or Ctrl-D.\", stacklevel=1)\n"
     ]
    }
   ],
   "source": [
    "import pygame\n",
    "import sys\n",
    "\n",
    "class AlienInvasion:\n",
    "    \"\"\"Overall class to manage game assets and behavior.\"\"\"\n",
    "    \n",
    "    def __init__(self):\n",
    "        \"\"\"Initialize the game, and create game resources.\"\"\"\n",
    "        pygame.init()\n",
    "        self.settings = Settings()\n",
    "        self.screen = pygame.display.set_mode((self.settings.screen_width, self.settings.screen_height))\n",
    "        pygame.display.set_caption('Alien Invasion')\n",
    "        self.ship = Ship(self)\n",
    "        self.alien = AlienShip(self)\n",
    "\n",
    "    def run_game(self):\n",
    "        \"\"\"Start the main loop for the game.\"\"\"\n",
    "        while True:\n",
    "            self._check_events()\n",
    "            self.ship.update()\n",
    "            self._update_screen()\n",
    "    \n",
    "    def _check_events(self):\n",
    "        \"\"\"Respond to keypresses and mouse events.\"\"\"\n",
    "        for event in pygame.event.get():\n",
    "            if event.type == pygame.QUIT:\n",
    "                pygame.quit()\n",
    "            elif event.type == pygame.KEYDOWN:\n",
    "                self._check_keydown_events(event)\n",
    "            elif event.type == pygame.KEYUP:\n",
    "                self._check_keyup_events(event)\n",
    "    \n",
    "    def _check_keydown_events(self, event):\n",
    "        if event.key == pygame.K_RIGHT:\n",
    "            self.ship.moving_right = True\n",
    "        elif event.key == pygame.K_LEFT:\n",
    "            self.ship.moving_left = True\n",
    "        elif event.key == pygame.K_UP:\n",
    "            self.ship.moving_up = True\n",
    "        elif event.key == pygame.K_DOWN: \n",
    "            self.ship.moving_down = True\n",
    "        elif event.key == pygame.K_q:\n",
    "            pygame.\n",
    "    def _check_keyup_events(self, event):\n",
    "        if event.key == pygame.K_RIGHT:\n",
    "            self.ship.moving_right = False   \n",
    "        elif event.key == pygame.K_LEFT:\n",
    "            self.ship.moving_left = False \n",
    "        elif event.key == pygame.K_UP:\n",
    "            self.ship.moving_up = False\n",
    "        elif event.key == pygame.K_DOWN: \n",
    "            self.ship.moving_down = False   \n",
    "            \n",
    "    def _update_screen(self):\n",
    "        \"\"\"Update images on the screen, and flip to the new screen.\"\"\"\n",
    "        self.screen.fill(self.settings.bg_color)\n",
    "        self.ship.blitme()\n",
    "        self.alien.blitme()\n",
    "        pygame.display.flip()\n",
    "        \n",
    "if __name__ == \"__main__\":\n",
    "    # Make a game instance, and run the game.\n",
    "    ai = AlienInvasion()\n",
    "    ai.run_game()"
   ]
  },
  {
   "cell_type": "code",
   "execution_count": 5,
   "metadata": {},
   "outputs": [
    {
     "name": "stdout",
     "output_type": "stream",
     "text": [
      "pygame 1.9.6\n",
      "Hello from the pygame community. https://www.pygame.org/contribute.html\n"
     ]
    },
    {
     "data": {
      "text/plain": [
       "['Rect',\n",
       " 'RectType',\n",
       " '_PYGAME_C_API',\n",
       " '__doc__',\n",
       " '__file__',\n",
       " '__loader__',\n",
       " '__name__',\n",
       " '__package__',\n",
       " '__spec__']"
      ]
     },
     "execution_count": 5,
     "metadata": {},
     "output_type": "execute_result"
    }
   ],
   "source": [
    "import pygame\n",
    "dir(pygame.rect)"
   ]
  }
 ],
 "metadata": {
  "kernelspec": {
   "display_name": "Python 3",
   "language": "python",
   "name": "python3"
  },
  "language_info": {
   "codemirror_mode": {
    "name": "ipython",
    "version": 3
   },
   "file_extension": ".py",
   "mimetype": "text/x-python",
   "name": "python",
   "nbconvert_exporter": "python",
   "pygments_lexer": "ipython3",
   "version": "3.7.4"
  }
 },
 "nbformat": 4,
 "nbformat_minor": 2
}
