{
 "cells": [
  {
   "cell_type": "markdown",
   "metadata": {},
   "source": [
    "### GAME CLASS"
   ]
  },
  {
   "cell_type": "code",
   "execution_count": 2,
   "metadata": {},
   "outputs": [],
   "source": [
    "class Settings:\n",
    "    \"\"\"A class to store all settings for Alien Invasion.\"\"\"\n",
    "    def __init__(self):\n",
    "        \"\"\"Initialize the game's settings.\"\"\"\n",
    "        # Screen settings\n",
    "        self.screen_width = 1200\n",
    "        self.screen_height = 600\n",
    "        self.bg_color = (255, 255, 255)\n",
    "        "
   ]
  },
  {
   "cell_type": "code",
   "execution_count": 7,
   "metadata": {},
   "outputs": [],
   "source": [
    "class Ship:\n",
    "    \"\"\"A class to manage the ship.\"\"\"\n",
    "    \n",
    "    def __init__(self, ai_game):\n",
    "        \"\"\"Initialize the ship and set its starting position.\"\"\"\n",
    "        self.screen = ai_game.screen\n",
    "        self.screen_rect = ai_game.screen.get_rect()\n",
    "        # Load the ship image and get its rect.\n",
    "        self.image = pygame.image.load('images/alien_ship3.bmp')\n",
    "        self.rect = self.image.get_rect()\n",
    "        # Start each new ship at the bottom center of the screen.\n",
    "        self.rect.midbottom = self.screen_rect.midbottom\n",
    "        self.moving_right = False\n",
    "        self.moving_left = False\n",
    "    def blitme(self):\n",
    "        \"\"\"Draw the ship at its current location.\"\"\"\n",
    "        self.screen.blit(self.image, self.rect)\n",
    "    \n",
    "    def update(self):\n",
    "        \"\"\"Update the ship's position based on the movement flag.\"\"\"\n",
    "        if self.moving_right:\n",
    "            self.rect.x += 1\n",
    "        if self.moving_left:\n",
    "            self.rect.x -= 1"
   ]
  },
  {
   "cell_type": "code",
   "execution_count": null,
   "metadata": {
    "scrolled": true
   },
   "outputs": [],
   "source": [
    "import pygame\n",
    "import sys\n",
    "\n",
    "class AlienInvasion:\n",
    "    \"\"\"Overall class to manage game assets and behavior.\"\"\"\n",
    "    \n",
    "    def __init__(self):\n",
    "        \"\"\"Initialize the game, and create game resources.\"\"\"\n",
    "        pygame.init()\n",
    "        self.settings = Settings()\n",
    "        self.screen = pygame.display.set_mode((self.settings.screen_width, self.settings.screen_height))\n",
    "        pygame.display.set_caption('Alien Invasion')\n",
    "        self.ship = Ship(self)\n",
    "\n",
    "    def run_game(self):\n",
    "        \"\"\"Start the main loop for the game.\"\"\"\n",
    "        while True:\n",
    "            self._check_events()\n",
    "            self.ship.update()\n",
    "            self._update_screen()\n",
    "    \n",
    "    def _check_events(self):\n",
    "        \"\"\"Respond to keypresses and mouse events.\"\"\"\n",
    "        for event in pygame.event.get():\n",
    "            if event.type == pygame.QUIT:\n",
    "                pygame.quit()\n",
    "            elif event.type == pygame.KEYDOWN:\n",
    "                if event.key == pygame.K_RIGHT:\n",
    "                # Move the ship to the right.\n",
    "                    self.ship.moving_right = True\n",
    "                elif event.key == pygame.K_LEFT:\n",
    "                    self.ship.moving_left = True\n",
    "            elif event.type == pygame.KEYUP:\n",
    "                if event.key == pygame.K_RIGHT:\n",
    "                    self.ship.moving_right = False   \n",
    "                elif event.key == pygame.K_LEFT:\n",
    "                    self.ship.moving_left = False \n",
    "    def _update_screen(self):\n",
    "        \"\"\"Update images on the screen, and flip to the new screen.\"\"\"\n",
    "        self.screen.fill(self.settings.bg_color)\n",
    "        self.ship.blitme()\n",
    "        pygame.display.flip()\n",
    "        \n",
    "if __name__ == \"__main__\":\n",
    "    # Make a game instance, and run the game.\n",
    "    ai = AlienInvasion()\n",
    "    ai.run_game()"
   ]
  }
 ],
 "metadata": {
  "kernelspec": {
   "display_name": "Python 3",
   "language": "python",
   "name": "python3"
  },
  "language_info": {
   "codemirror_mode": {
    "name": "ipython",
    "version": 3
   },
   "file_extension": ".py",
   "mimetype": "text/x-python",
   "name": "python",
   "nbconvert_exporter": "python",
   "pygments_lexer": "ipython3",
   "version": "3.7.4"
  }
 },
 "nbformat": 4,
 "nbformat_minor": 2
}
